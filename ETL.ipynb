{
 "cells": [
  {
   "cell_type": "markdown",
   "id": "0cc292ac",
   "metadata": {},
   "source": [
    "# Extract Transfrom Load(ETL) Pipeline "
   ]
  },
  {
   "cell_type": "code",
   "execution_count": 6,
   "id": "d0e1904d",
   "metadata": {},
   "outputs": [],
   "source": [
    "import pandas as pd\n",
    "import matplotlib.pyplot as plt\n",
    "\n",
    "pd.options.mode.chained_assignment = None"
   ]
  },
  {
   "cell_type": "markdown",
   "id": "f0f8f1d6",
   "metadata": {},
   "source": [
    "## 01 Data Extraction"
   ]
  },
  {
   "cell_type": "code",
   "execution_count": 18,
   "id": "7bccfff7",
   "metadata": {},
   "outputs": [],
   "source": [
    "#Get datasets\n",
    "holidays=pd.read_csv('data/holidays_events.csv')\n",
    "oil=pd.read_csv('data/oil.csv')\n",
    "stores=pd.read_csv('data/stores.csv')\n",
    "test=pd.read_csv('data/test.csv')\n",
    "train=pd.read_csv('data/train.csv')\n",
    "transactions=pd.read_csv('data/transactions.csv')\n",
    "predictions=pd.read_csv('results/predictions.csv')"
   ]
  },
  {
   "cell_type": "code",
   "execution_count": 3,
   "id": "42c590f7",
   "metadata": {},
   "outputs": [
    {
     "data": {
      "text/html": [
       "<div>\n",
       "<style scoped>\n",
       "    .dataframe tbody tr th:only-of-type {\n",
       "        vertical-align: middle;\n",
       "    }\n",
       "\n",
       "    .dataframe tbody tr th {\n",
       "        vertical-align: top;\n",
       "    }\n",
       "\n",
       "    .dataframe thead th {\n",
       "        text-align: right;\n",
       "    }\n",
       "</style>\n",
       "<table border=\"1\" class=\"dataframe\">\n",
       "  <thead>\n",
       "    <tr style=\"text-align: right;\">\n",
       "      <th></th>\n",
       "      <th>date</th>\n",
       "      <th>type</th>\n",
       "      <th>locale</th>\n",
       "      <th>locale_name</th>\n",
       "      <th>description</th>\n",
       "      <th>transferred</th>\n",
       "    </tr>\n",
       "  </thead>\n",
       "  <tbody>\n",
       "    <tr>\n",
       "      <th>0</th>\n",
       "      <td>2012-03-02</td>\n",
       "      <td>Holiday</td>\n",
       "      <td>Local</td>\n",
       "      <td>Manta</td>\n",
       "      <td>Fundacion de Manta</td>\n",
       "      <td>False</td>\n",
       "    </tr>\n",
       "    <tr>\n",
       "      <th>1</th>\n",
       "      <td>2012-04-01</td>\n",
       "      <td>Holiday</td>\n",
       "      <td>Regional</td>\n",
       "      <td>Cotopaxi</td>\n",
       "      <td>Provincializacion de Cotopaxi</td>\n",
       "      <td>False</td>\n",
       "    </tr>\n",
       "  </tbody>\n",
       "</table>\n",
       "</div>"
      ],
      "text/plain": [
       "         date     type    locale locale_name                    description  \\\n",
       "0  2012-03-02  Holiday     Local       Manta             Fundacion de Manta   \n",
       "1  2012-04-01  Holiday  Regional    Cotopaxi  Provincializacion de Cotopaxi   \n",
       "\n",
       "   transferred  \n",
       "0        False  \n",
       "1        False  "
      ]
     },
     "execution_count": 3,
     "metadata": {},
     "output_type": "execute_result"
    }
   ],
   "source": [
    "holidays.head(2)"
   ]
  },
  {
   "cell_type": "code",
   "execution_count": 5,
   "id": "13c8e11c",
   "metadata": {},
   "outputs": [
    {
     "data": {
      "text/html": [
       "<div>\n",
       "<style scoped>\n",
       "    .dataframe tbody tr th:only-of-type {\n",
       "        vertical-align: middle;\n",
       "    }\n",
       "\n",
       "    .dataframe tbody tr th {\n",
       "        vertical-align: top;\n",
       "    }\n",
       "\n",
       "    .dataframe thead th {\n",
       "        text-align: right;\n",
       "    }\n",
       "</style>\n",
       "<table border=\"1\" class=\"dataframe\">\n",
       "  <thead>\n",
       "    <tr style=\"text-align: right;\">\n",
       "      <th></th>\n",
       "      <th>store_nbr</th>\n",
       "      <th>city</th>\n",
       "      <th>state</th>\n",
       "      <th>type</th>\n",
       "      <th>cluster</th>\n",
       "    </tr>\n",
       "  </thead>\n",
       "  <tbody>\n",
       "    <tr>\n",
       "      <th>0</th>\n",
       "      <td>1</td>\n",
       "      <td>Quito</td>\n",
       "      <td>Pichincha</td>\n",
       "      <td>D</td>\n",
       "      <td>13</td>\n",
       "    </tr>\n",
       "    <tr>\n",
       "      <th>1</th>\n",
       "      <td>2</td>\n",
       "      <td>Quito</td>\n",
       "      <td>Pichincha</td>\n",
       "      <td>D</td>\n",
       "      <td>13</td>\n",
       "    </tr>\n",
       "  </tbody>\n",
       "</table>\n",
       "</div>"
      ],
      "text/plain": [
       "   store_nbr   city      state type  cluster\n",
       "0          1  Quito  Pichincha    D       13\n",
       "1          2  Quito  Pichincha    D       13"
      ]
     },
     "execution_count": 5,
     "metadata": {},
     "output_type": "execute_result"
    }
   ],
   "source": [
    "stores.head(2)"
   ]
  },
  {
   "cell_type": "code",
   "execution_count": 6,
   "id": "2c1b68ec",
   "metadata": {},
   "outputs": [
    {
     "data": {
      "text/html": [
       "<div>\n",
       "<style scoped>\n",
       "    .dataframe tbody tr th:only-of-type {\n",
       "        vertical-align: middle;\n",
       "    }\n",
       "\n",
       "    .dataframe tbody tr th {\n",
       "        vertical-align: top;\n",
       "    }\n",
       "\n",
       "    .dataframe thead th {\n",
       "        text-align: right;\n",
       "    }\n",
       "</style>\n",
       "<table border=\"1\" class=\"dataframe\">\n",
       "  <thead>\n",
       "    <tr style=\"text-align: right;\">\n",
       "      <th></th>\n",
       "      <th>id</th>\n",
       "      <th>date</th>\n",
       "      <th>store_nbr</th>\n",
       "      <th>family</th>\n",
       "      <th>onpromotion</th>\n",
       "    </tr>\n",
       "  </thead>\n",
       "  <tbody>\n",
       "    <tr>\n",
       "      <th>0</th>\n",
       "      <td>3000888</td>\n",
       "      <td>2017-08-16</td>\n",
       "      <td>1</td>\n",
       "      <td>AUTOMOTIVE</td>\n",
       "      <td>0</td>\n",
       "    </tr>\n",
       "    <tr>\n",
       "      <th>1</th>\n",
       "      <td>3000889</td>\n",
       "      <td>2017-08-16</td>\n",
       "      <td>1</td>\n",
       "      <td>BABY CARE</td>\n",
       "      <td>0</td>\n",
       "    </tr>\n",
       "  </tbody>\n",
       "</table>\n",
       "</div>"
      ],
      "text/plain": [
       "        id        date  store_nbr      family  onpromotion\n",
       "0  3000888  2017-08-16          1  AUTOMOTIVE            0\n",
       "1  3000889  2017-08-16          1   BABY CARE            0"
      ]
     },
     "execution_count": 6,
     "metadata": {},
     "output_type": "execute_result"
    }
   ],
   "source": [
    "test.head(2)"
   ]
  },
  {
   "cell_type": "code",
   "execution_count": 3,
   "id": "a33d4bdd",
   "metadata": {},
   "outputs": [
    {
     "data": {
      "text/html": [
       "<div>\n",
       "<style scoped>\n",
       "    .dataframe tbody tr th:only-of-type {\n",
       "        vertical-align: middle;\n",
       "    }\n",
       "\n",
       "    .dataframe tbody tr th {\n",
       "        vertical-align: top;\n",
       "    }\n",
       "\n",
       "    .dataframe thead th {\n",
       "        text-align: right;\n",
       "    }\n",
       "</style>\n",
       "<table border=\"1\" class=\"dataframe\">\n",
       "  <thead>\n",
       "    <tr style=\"text-align: right;\">\n",
       "      <th></th>\n",
       "      <th>id</th>\n",
       "      <th>date</th>\n",
       "      <th>store_nbr</th>\n",
       "      <th>family</th>\n",
       "      <th>sales</th>\n",
       "      <th>onpromotion</th>\n",
       "    </tr>\n",
       "  </thead>\n",
       "  <tbody>\n",
       "    <tr>\n",
       "      <th>0</th>\n",
       "      <td>0</td>\n",
       "      <td>2013-01-01</td>\n",
       "      <td>1</td>\n",
       "      <td>AUTOMOTIVE</td>\n",
       "      <td>0.0</td>\n",
       "      <td>0</td>\n",
       "    </tr>\n",
       "    <tr>\n",
       "      <th>1</th>\n",
       "      <td>1</td>\n",
       "      <td>2013-01-01</td>\n",
       "      <td>1</td>\n",
       "      <td>BABY CARE</td>\n",
       "      <td>0.0</td>\n",
       "      <td>0</td>\n",
       "    </tr>\n",
       "  </tbody>\n",
       "</table>\n",
       "</div>"
      ],
      "text/plain": [
       "   id        date  store_nbr      family  sales  onpromotion\n",
       "0   0  2013-01-01          1  AUTOMOTIVE    0.0            0\n",
       "1   1  2013-01-01          1   BABY CARE    0.0            0"
      ]
     },
     "execution_count": 3,
     "metadata": {},
     "output_type": "execute_result"
    }
   ],
   "source": [
    "train.head(2)"
   ]
  },
  {
   "cell_type": "code",
   "execution_count": 4,
   "id": "964b43cf",
   "metadata": {},
   "outputs": [
    {
     "data": {
      "text/plain": [
       "1073644952.2030932"
      ]
     },
     "execution_count": 4,
     "metadata": {},
     "output_type": "execute_result"
    }
   ],
   "source": [
    "sum(train['sales'])"
   ]
  },
  {
   "cell_type": "code",
   "execution_count": 8,
   "id": "94e57995",
   "metadata": {},
   "outputs": [
    {
     "data": {
      "text/html": [
       "<div>\n",
       "<style scoped>\n",
       "    .dataframe tbody tr th:only-of-type {\n",
       "        vertical-align: middle;\n",
       "    }\n",
       "\n",
       "    .dataframe tbody tr th {\n",
       "        vertical-align: top;\n",
       "    }\n",
       "\n",
       "    .dataframe thead th {\n",
       "        text-align: right;\n",
       "    }\n",
       "</style>\n",
       "<table border=\"1\" class=\"dataframe\">\n",
       "  <thead>\n",
       "    <tr style=\"text-align: right;\">\n",
       "      <th></th>\n",
       "      <th>date</th>\n",
       "      <th>store_nbr</th>\n",
       "      <th>transactions</th>\n",
       "    </tr>\n",
       "  </thead>\n",
       "  <tbody>\n",
       "    <tr>\n",
       "      <th>0</th>\n",
       "      <td>2013-01-01</td>\n",
       "      <td>25</td>\n",
       "      <td>770</td>\n",
       "    </tr>\n",
       "    <tr>\n",
       "      <th>1</th>\n",
       "      <td>2013-01-02</td>\n",
       "      <td>1</td>\n",
       "      <td>2111</td>\n",
       "    </tr>\n",
       "  </tbody>\n",
       "</table>\n",
       "</div>"
      ],
      "text/plain": [
       "         date  store_nbr  transactions\n",
       "0  2013-01-01         25           770\n",
       "1  2013-01-02          1          2111"
      ]
     },
     "execution_count": 8,
     "metadata": {},
     "output_type": "execute_result"
    }
   ],
   "source": [
    "transactions.head(2)"
   ]
  },
  {
   "cell_type": "markdown",
   "id": "d52a1c16",
   "metadata": {},
   "source": [
    "## 02 Data Transformation"
   ]
  },
  {
   "cell_type": "code",
   "execution_count": 31,
   "id": "dab86493",
   "metadata": {},
   "outputs": [
    {
     "data": {
      "text/html": [
       "<div>\n",
       "<style scoped>\n",
       "    .dataframe tbody tr th:only-of-type {\n",
       "        vertical-align: middle;\n",
       "    }\n",
       "\n",
       "    .dataframe tbody tr th {\n",
       "        vertical-align: top;\n",
       "    }\n",
       "\n",
       "    .dataframe thead th {\n",
       "        text-align: right;\n",
       "    }\n",
       "</style>\n",
       "<table border=\"1\" class=\"dataframe\">\n",
       "  <thead>\n",
       "    <tr style=\"text-align: right;\">\n",
       "      <th></th>\n",
       "      <th>prod_id</th>\n",
       "      <th>family</th>\n",
       "    </tr>\n",
       "  </thead>\n",
       "  <tbody>\n",
       "    <tr>\n",
       "      <th>0</th>\n",
       "      <td>prod_0</td>\n",
       "      <td>AUTOMOTIVE</td>\n",
       "    </tr>\n",
       "    <tr>\n",
       "      <th>1</th>\n",
       "      <td>prod_1</td>\n",
       "      <td>BABY CARE</td>\n",
       "    </tr>\n",
       "    <tr>\n",
       "      <th>2</th>\n",
       "      <td>prod_2</td>\n",
       "      <td>BEAUTY</td>\n",
       "    </tr>\n",
       "    <tr>\n",
       "      <th>3</th>\n",
       "      <td>prod_3</td>\n",
       "      <td>BEVERAGES</td>\n",
       "    </tr>\n",
       "    <tr>\n",
       "      <th>4</th>\n",
       "      <td>prod_4</td>\n",
       "      <td>BOOKS</td>\n",
       "    </tr>\n",
       "  </tbody>\n",
       "</table>\n",
       "</div>"
      ],
      "text/plain": [
       "  prod_id      family\n",
       "0  prod_0  AUTOMOTIVE\n",
       "1  prod_1   BABY CARE\n",
       "2  prod_2      BEAUTY\n",
       "3  prod_3   BEVERAGES\n",
       "4  prod_4       BOOKS"
      ]
     },
     "execution_count": 31,
     "metadata": {},
     "output_type": "execute_result"
    }
   ],
   "source": [
    "products = train[['family']]\n",
    "products.drop_duplicates(keep='first', inplace=True)\n",
    "products.reset_index()\n",
    "products['prod_id'] = products.index.astype(str)\n",
    "\n",
    "def product_key(value):\n",
    "    key = 'prod_' + value\n",
    "    return key\n",
    "\n",
    "products['prod_id'] = products[['prod_id']].apply(lambda x: [product_key(i) for i in x])\n",
    "products = products[['prod_id','family']]\n",
    "products.head()"
   ]
  },
  {
   "cell_type": "code",
   "execution_count": 50,
   "id": "ab62fbc8",
   "metadata": {},
   "outputs": [
    {
     "data": {
      "text/html": [
       "<div>\n",
       "<style scoped>\n",
       "    .dataframe tbody tr th:only-of-type {\n",
       "        vertical-align: middle;\n",
       "    }\n",
       "\n",
       "    .dataframe tbody tr th {\n",
       "        vertical-align: top;\n",
       "    }\n",
       "\n",
       "    .dataframe thead th {\n",
       "        text-align: right;\n",
       "    }\n",
       "</style>\n",
       "<table border=\"1\" class=\"dataframe\">\n",
       "  <thead>\n",
       "    <tr style=\"text-align: right;\">\n",
       "      <th></th>\n",
       "      <th>date</th>\n",
       "      <th>dcoilwtico</th>\n",
       "    </tr>\n",
       "  </thead>\n",
       "  <tbody>\n",
       "    <tr>\n",
       "      <th>1</th>\n",
       "      <td>2013-01-02</td>\n",
       "      <td>93.14</td>\n",
       "    </tr>\n",
       "    <tr>\n",
       "      <th>2</th>\n",
       "      <td>2013-01-03</td>\n",
       "      <td>92.97</td>\n",
       "    </tr>\n",
       "  </tbody>\n",
       "</table>\n",
       "</div>"
      ],
      "text/plain": [
       "         date  dcoilwtico\n",
       "1  2013-01-02       93.14\n",
       "2  2013-01-03       92.97"
      ]
     },
     "execution_count": 50,
     "metadata": {},
     "output_type": "execute_result"
    }
   ],
   "source": [
    "oil = oil.dropna()\n",
    "oil.head(2)"
   ]
  },
  {
   "cell_type": "code",
   "execution_count": 52,
   "id": "3960ce70",
   "metadata": {},
   "outputs": [
    {
     "data": {
      "text/html": [
       "<div>\n",
       "<style scoped>\n",
       "    .dataframe tbody tr th:only-of-type {\n",
       "        vertical-align: middle;\n",
       "    }\n",
       "\n",
       "    .dataframe tbody tr th {\n",
       "        vertical-align: top;\n",
       "    }\n",
       "\n",
       "    .dataframe thead th {\n",
       "        text-align: right;\n",
       "    }\n",
       "</style>\n",
       "<table border=\"1\" class=\"dataframe\">\n",
       "  <thead>\n",
       "    <tr style=\"text-align: right;\">\n",
       "      <th></th>\n",
       "      <th>oil_id</th>\n",
       "      <th>date</th>\n",
       "      <th>dcoilwtico</th>\n",
       "    </tr>\n",
       "  </thead>\n",
       "  <tbody>\n",
       "    <tr>\n",
       "      <th>1</th>\n",
       "      <td>oil_1</td>\n",
       "      <td>2013-01-02</td>\n",
       "      <td>93.14</td>\n",
       "    </tr>\n",
       "    <tr>\n",
       "      <th>2</th>\n",
       "      <td>oil_2</td>\n",
       "      <td>2013-01-03</td>\n",
       "      <td>92.97</td>\n",
       "    </tr>\n",
       "    <tr>\n",
       "      <th>3</th>\n",
       "      <td>oil_3</td>\n",
       "      <td>2013-01-04</td>\n",
       "      <td>93.12</td>\n",
       "    </tr>\n",
       "    <tr>\n",
       "      <th>4</th>\n",
       "      <td>oil_4</td>\n",
       "      <td>2013-01-07</td>\n",
       "      <td>93.20</td>\n",
       "    </tr>\n",
       "    <tr>\n",
       "      <th>5</th>\n",
       "      <td>oil_5</td>\n",
       "      <td>2013-01-08</td>\n",
       "      <td>93.21</td>\n",
       "    </tr>\n",
       "  </tbody>\n",
       "</table>\n",
       "</div>"
      ],
      "text/plain": [
       "  oil_id        date  dcoilwtico\n",
       "1  oil_1  2013-01-02       93.14\n",
       "2  oil_2  2013-01-03       92.97\n",
       "3  oil_3  2013-01-04       93.12\n",
       "4  oil_4  2013-01-07       93.20\n",
       "5  oil_5  2013-01-08       93.21"
      ]
     },
     "execution_count": 52,
     "metadata": {},
     "output_type": "execute_result"
    }
   ],
   "source": [
    "#Add oil primary key\n",
    "oil.drop_duplicates(keep='first', inplace=True)\n",
    "oil.reset_index()\n",
    "oil['oil_id'] = oil.index.astype(str)\n",
    "\n",
    "def oil_key(value):\n",
    "    key = 'oil_' + value\n",
    "    return key\n",
    "\n",
    "oil['oil_id'] = oil[['oil_id']].apply(lambda x: [oil_key(i) for i in x])\n",
    "oil = oil[['oil_id','date','dcoilwtico']]\n",
    "oil.head()"
   ]
  },
  {
   "cell_type": "code",
   "execution_count": 77,
   "id": "0d59b76d",
   "metadata": {},
   "outputs": [],
   "source": [
    "oil.drop_duplicates(keep='first', inplace=True)"
   ]
  },
  {
   "cell_type": "code",
   "execution_count": 56,
   "id": "5bd07914",
   "metadata": {},
   "outputs": [
    {
     "data": {
      "text/html": [
       "<div>\n",
       "<style scoped>\n",
       "    .dataframe tbody tr th:only-of-type {\n",
       "        vertical-align: middle;\n",
       "    }\n",
       "\n",
       "    .dataframe tbody tr th {\n",
       "        vertical-align: top;\n",
       "    }\n",
       "\n",
       "    .dataframe thead th {\n",
       "        text-align: right;\n",
       "    }\n",
       "</style>\n",
       "<table border=\"1\" class=\"dataframe\">\n",
       "  <thead>\n",
       "    <tr style=\"text-align: right;\">\n",
       "      <th></th>\n",
       "      <th>date</th>\n",
       "      <th>type</th>\n",
       "      <th>locale</th>\n",
       "      <th>locale_name</th>\n",
       "      <th>description</th>\n",
       "      <th>transferred</th>\n",
       "    </tr>\n",
       "  </thead>\n",
       "  <tbody>\n",
       "    <tr>\n",
       "      <th>0</th>\n",
       "      <td>2012-03-02</td>\n",
       "      <td>Holiday</td>\n",
       "      <td>Local</td>\n",
       "      <td>Manta</td>\n",
       "      <td>Fundacion de Manta</td>\n",
       "      <td>False</td>\n",
       "    </tr>\n",
       "    <tr>\n",
       "      <th>1</th>\n",
       "      <td>2012-04-01</td>\n",
       "      <td>Holiday</td>\n",
       "      <td>Regional</td>\n",
       "      <td>Cotopaxi</td>\n",
       "      <td>Provincializacion de Cotopaxi</td>\n",
       "      <td>False</td>\n",
       "    </tr>\n",
       "    <tr>\n",
       "      <th>2</th>\n",
       "      <td>2012-04-12</td>\n",
       "      <td>Holiday</td>\n",
       "      <td>Local</td>\n",
       "      <td>Cuenca</td>\n",
       "      <td>Fundacion de Cuenca</td>\n",
       "      <td>False</td>\n",
       "    </tr>\n",
       "    <tr>\n",
       "      <th>3</th>\n",
       "      <td>2012-04-14</td>\n",
       "      <td>Holiday</td>\n",
       "      <td>Local</td>\n",
       "      <td>Libertad</td>\n",
       "      <td>Cantonizacion de Libertad</td>\n",
       "      <td>False</td>\n",
       "    </tr>\n",
       "    <tr>\n",
       "      <th>4</th>\n",
       "      <td>2012-04-21</td>\n",
       "      <td>Holiday</td>\n",
       "      <td>Local</td>\n",
       "      <td>Riobamba</td>\n",
       "      <td>Cantonizacion de Riobamba</td>\n",
       "      <td>False</td>\n",
       "    </tr>\n",
       "  </tbody>\n",
       "</table>\n",
       "</div>"
      ],
      "text/plain": [
       "         date     type    locale locale_name                    description  \\\n",
       "0  2012-03-02  Holiday     Local       Manta             Fundacion de Manta   \n",
       "1  2012-04-01  Holiday  Regional    Cotopaxi  Provincializacion de Cotopaxi   \n",
       "2  2012-04-12  Holiday     Local      Cuenca            Fundacion de Cuenca   \n",
       "3  2012-04-14  Holiday     Local    Libertad      Cantonizacion de Libertad   \n",
       "4  2012-04-21  Holiday     Local    Riobamba      Cantonizacion de Riobamba   \n",
       "\n",
       "   transferred  \n",
       "0        False  \n",
       "1        False  \n",
       "2        False  \n",
       "3        False  \n",
       "4        False  "
      ]
     },
     "execution_count": 56,
     "metadata": {},
     "output_type": "execute_result"
    }
   ],
   "source": [
    "holidays.head()"
   ]
  },
  {
   "cell_type": "code",
   "execution_count": 57,
   "id": "7f2ad4cb",
   "metadata": {},
   "outputs": [
    {
     "data": {
      "text/html": [
       "<div>\n",
       "<style scoped>\n",
       "    .dataframe tbody tr th:only-of-type {\n",
       "        vertical-align: middle;\n",
       "    }\n",
       "\n",
       "    .dataframe tbody tr th {\n",
       "        vertical-align: top;\n",
       "    }\n",
       "\n",
       "    .dataframe thead th {\n",
       "        text-align: right;\n",
       "    }\n",
       "</style>\n",
       "<table border=\"1\" class=\"dataframe\">\n",
       "  <thead>\n",
       "    <tr style=\"text-align: right;\">\n",
       "      <th></th>\n",
       "      <th>holidays_id</th>\n",
       "      <th>date</th>\n",
       "      <th>type</th>\n",
       "      <th>locale</th>\n",
       "      <th>locale_name</th>\n",
       "      <th>description</th>\n",
       "      <th>transferred</th>\n",
       "    </tr>\n",
       "  </thead>\n",
       "  <tbody>\n",
       "    <tr>\n",
       "      <th>0</th>\n",
       "      <td>holidays_0</td>\n",
       "      <td>2012-03-02</td>\n",
       "      <td>Holiday</td>\n",
       "      <td>Local</td>\n",
       "      <td>Manta</td>\n",
       "      <td>Fundacion de Manta</td>\n",
       "      <td>False</td>\n",
       "    </tr>\n",
       "    <tr>\n",
       "      <th>1</th>\n",
       "      <td>holidays_1</td>\n",
       "      <td>2012-04-01</td>\n",
       "      <td>Holiday</td>\n",
       "      <td>Regional</td>\n",
       "      <td>Cotopaxi</td>\n",
       "      <td>Provincializacion de Cotopaxi</td>\n",
       "      <td>False</td>\n",
       "    </tr>\n",
       "    <tr>\n",
       "      <th>2</th>\n",
       "      <td>holidays_2</td>\n",
       "      <td>2012-04-12</td>\n",
       "      <td>Holiday</td>\n",
       "      <td>Local</td>\n",
       "      <td>Cuenca</td>\n",
       "      <td>Fundacion de Cuenca</td>\n",
       "      <td>False</td>\n",
       "    </tr>\n",
       "    <tr>\n",
       "      <th>3</th>\n",
       "      <td>holidays_3</td>\n",
       "      <td>2012-04-14</td>\n",
       "      <td>Holiday</td>\n",
       "      <td>Local</td>\n",
       "      <td>Libertad</td>\n",
       "      <td>Cantonizacion de Libertad</td>\n",
       "      <td>False</td>\n",
       "    </tr>\n",
       "    <tr>\n",
       "      <th>4</th>\n",
       "      <td>holidays_4</td>\n",
       "      <td>2012-04-21</td>\n",
       "      <td>Holiday</td>\n",
       "      <td>Local</td>\n",
       "      <td>Riobamba</td>\n",
       "      <td>Cantonizacion de Riobamba</td>\n",
       "      <td>False</td>\n",
       "    </tr>\n",
       "  </tbody>\n",
       "</table>\n",
       "</div>"
      ],
      "text/plain": [
       "  holidays_id        date     type    locale locale_name  \\\n",
       "0  holidays_0  2012-03-02  Holiday     Local       Manta   \n",
       "1  holidays_1  2012-04-01  Holiday  Regional    Cotopaxi   \n",
       "2  holidays_2  2012-04-12  Holiday     Local      Cuenca   \n",
       "3  holidays_3  2012-04-14  Holiday     Local    Libertad   \n",
       "4  holidays_4  2012-04-21  Holiday     Local    Riobamba   \n",
       "\n",
       "                     description  transferred  \n",
       "0             Fundacion de Manta        False  \n",
       "1  Provincializacion de Cotopaxi        False  \n",
       "2            Fundacion de Cuenca        False  \n",
       "3      Cantonizacion de Libertad        False  \n",
       "4      Cantonizacion de Riobamba        False  "
      ]
     },
     "execution_count": 57,
     "metadata": {},
     "output_type": "execute_result"
    }
   ],
   "source": [
    "#Add oil primary key\n",
    "holidays.drop_duplicates(keep='first', inplace=True)\n",
    "holidays.reset_index()\n",
    "holidays['holidays_id'] = holidays.index.astype(str)\n",
    "\n",
    "def holidays_key(value):\n",
    "    key = 'holidays_' + value\n",
    "    return key\n",
    "\n",
    "holidays['holidays_id'] = holidays[['holidays_id']].apply(lambda x: [holidays_key(i) for i in x])\n",
    "holidays = holidays[['holidays_id','date','type','locale','locale_name','description','transferred']]\n",
    "holidays.head()"
   ]
  },
  {
   "cell_type": "code",
   "execution_count": 35,
   "id": "431aaff3",
   "metadata": {},
   "outputs": [
    {
     "data": {
      "text/html": [
       "<div>\n",
       "<style scoped>\n",
       "    .dataframe tbody tr th:only-of-type {\n",
       "        vertical-align: middle;\n",
       "    }\n",
       "\n",
       "    .dataframe tbody tr th {\n",
       "        vertical-align: top;\n",
       "    }\n",
       "\n",
       "    .dataframe thead th {\n",
       "        text-align: right;\n",
       "    }\n",
       "</style>\n",
       "<table border=\"1\" class=\"dataframe\">\n",
       "  <thead>\n",
       "    <tr style=\"text-align: right;\">\n",
       "      <th></th>\n",
       "      <th>id</th>\n",
       "      <th>date</th>\n",
       "      <th>store_nbr</th>\n",
       "      <th>family</th>\n",
       "      <th>sales</th>\n",
       "      <th>onpromotion</th>\n",
       "    </tr>\n",
       "  </thead>\n",
       "  <tbody>\n",
       "    <tr>\n",
       "      <th>0</th>\n",
       "      <td>0</td>\n",
       "      <td>2013-01-01</td>\n",
       "      <td>1</td>\n",
       "      <td>AUTOMOTIVE</td>\n",
       "      <td>0.0</td>\n",
       "      <td>0</td>\n",
       "    </tr>\n",
       "    <tr>\n",
       "      <th>1</th>\n",
       "      <td>1</td>\n",
       "      <td>2013-01-01</td>\n",
       "      <td>1</td>\n",
       "      <td>BABY CARE</td>\n",
       "      <td>0.0</td>\n",
       "      <td>0</td>\n",
       "    </tr>\n",
       "  </tbody>\n",
       "</table>\n",
       "</div>"
      ],
      "text/plain": [
       "   id        date  store_nbr      family  sales  onpromotion\n",
       "0   0  2013-01-01          1  AUTOMOTIVE    0.0            0\n",
       "1   1  2013-01-01          1   BABY CARE    0.0            0"
      ]
     },
     "execution_count": 35,
     "metadata": {},
     "output_type": "execute_result"
    }
   ],
   "source": [
    "sales = train.copy()\n",
    "sales.head(2)"
   ]
  },
  {
   "cell_type": "code",
   "execution_count": 33,
   "id": "04ffbb93",
   "metadata": {},
   "outputs": [
    {
     "data": {
      "text/plain": [
       "'prod_28'"
      ]
     },
     "execution_count": 33,
     "metadata": {},
     "output_type": "execute_result"
    }
   ],
   "source": [
    "def add_product_key(value):\n",
    "    key = products.loc[products['family'] == value, 'prod_id'].iloc[0]\n",
    "    return key"
   ]
  },
  {
   "cell_type": "code",
   "execution_count": 36,
   "id": "57e26eee",
   "metadata": {},
   "outputs": [],
   "source": [
    "sales['prod_id'] = sales[['family']].apply(lambda x: [add_product_key(i) for i in x])"
   ]
  },
  {
   "cell_type": "code",
   "execution_count": 40,
   "id": "71196562",
   "metadata": {},
   "outputs": [
    {
     "data": {
      "text/html": [
       "<div>\n",
       "<style scoped>\n",
       "    .dataframe tbody tr th:only-of-type {\n",
       "        vertical-align: middle;\n",
       "    }\n",
       "\n",
       "    .dataframe tbody tr th {\n",
       "        vertical-align: top;\n",
       "    }\n",
       "\n",
       "    .dataframe thead th {\n",
       "        text-align: right;\n",
       "    }\n",
       "</style>\n",
       "<table border=\"1\" class=\"dataframe\">\n",
       "  <thead>\n",
       "    <tr style=\"text-align: right;\">\n",
       "      <th></th>\n",
       "      <th>id</th>\n",
       "      <th>date</th>\n",
       "      <th>store_nbr</th>\n",
       "      <th>family</th>\n",
       "      <th>sales</th>\n",
       "      <th>onpromotion</th>\n",
       "      <th>prod_id</th>\n",
       "    </tr>\n",
       "  </thead>\n",
       "  <tbody>\n",
       "    <tr>\n",
       "      <th>0</th>\n",
       "      <td>0</td>\n",
       "      <td>2013-01-01</td>\n",
       "      <td>1</td>\n",
       "      <td>AUTOMOTIVE</td>\n",
       "      <td>0.0</td>\n",
       "      <td>0</td>\n",
       "      <td>prod_0</td>\n",
       "    </tr>\n",
       "    <tr>\n",
       "      <th>1</th>\n",
       "      <td>1</td>\n",
       "      <td>2013-01-01</td>\n",
       "      <td>1</td>\n",
       "      <td>BABY CARE</td>\n",
       "      <td>0.0</td>\n",
       "      <td>0</td>\n",
       "      <td>prod_1</td>\n",
       "    </tr>\n",
       "    <tr>\n",
       "      <th>2</th>\n",
       "      <td>2</td>\n",
       "      <td>2013-01-01</td>\n",
       "      <td>1</td>\n",
       "      <td>BEAUTY</td>\n",
       "      <td>0.0</td>\n",
       "      <td>0</td>\n",
       "      <td>prod_2</td>\n",
       "    </tr>\n",
       "    <tr>\n",
       "      <th>3</th>\n",
       "      <td>3</td>\n",
       "      <td>2013-01-01</td>\n",
       "      <td>1</td>\n",
       "      <td>BEVERAGES</td>\n",
       "      <td>0.0</td>\n",
       "      <td>0</td>\n",
       "      <td>prod_3</td>\n",
       "    </tr>\n",
       "    <tr>\n",
       "      <th>4</th>\n",
       "      <td>4</td>\n",
       "      <td>2013-01-01</td>\n",
       "      <td>1</td>\n",
       "      <td>BOOKS</td>\n",
       "      <td>0.0</td>\n",
       "      <td>0</td>\n",
       "      <td>prod_4</td>\n",
       "    </tr>\n",
       "  </tbody>\n",
       "</table>\n",
       "</div>"
      ],
      "text/plain": [
       "   id        date  store_nbr      family  sales  onpromotion prod_id\n",
       "0   0  2013-01-01          1  AUTOMOTIVE    0.0            0  prod_0\n",
       "1   1  2013-01-01          1   BABY CARE    0.0            0  prod_1\n",
       "2   2  2013-01-01          1      BEAUTY    0.0            0  prod_2\n",
       "3   3  2013-01-01          1   BEVERAGES    0.0            0  prod_3\n",
       "4   4  2013-01-01          1       BOOKS    0.0            0  prod_4"
      ]
     },
     "execution_count": 40,
     "metadata": {},
     "output_type": "execute_result"
    }
   ],
   "source": [
    "sales.head()"
   ]
  },
  {
   "cell_type": "code",
   "execution_count": 66,
   "id": "d154138e",
   "metadata": {},
   "outputs": [
    {
     "name": "stderr",
     "output_type": "stream",
     "text": [
      "<ipython-input-66-dbb7abef35ff>:1: FutureWarning: In a future version of pandas all arguments of DataFrame.drop except for the argument 'labels' will be keyword-only\n",
      "  sales = sales.drop('family', 1)\n"
     ]
    }
   ],
   "source": [
    "sales = sales.drop('family', 1)"
   ]
  },
  {
   "cell_type": "markdown",
   "id": "485e7ba7",
   "metadata": {},
   "source": [
    "## 03 Data Loading"
   ]
  },
  {
   "cell_type": "markdown",
   "id": "88322ca7",
   "metadata": {},
   "source": [
    "### Connect to SQL SERVER Data Warehouse"
   ]
  },
  {
   "cell_type": "code",
   "execution_count": 26,
   "id": "e0839b8f",
   "metadata": {},
   "outputs": [],
   "source": [
    "import pyodbc \n",
    "\n",
    "conn = pyodbc.connect('Driver={ODBC Driver 17 for SQL Server};'\n",
    "                      'Server=DESKTOP-HMHN4IF;'\n",
    "                      'Database=Stores_db;'\n",
    "                      'Trusted_Connection=yes;')\n",
    "\n",
    "cursor = conn.cursor()"
   ]
  },
  {
   "cell_type": "markdown",
   "id": "26136a71",
   "metadata": {},
   "source": [
    "### Create Dimension Tables and Add Records"
   ]
  },
  {
   "cell_type": "code",
   "execution_count": 46,
   "id": "58f9679d",
   "metadata": {},
   "outputs": [
    {
     "data": {
      "text/plain": [
       "<pyodbc.Cursor at 0x1934e289a30>"
      ]
     },
     "execution_count": 46,
     "metadata": {},
     "output_type": "execute_result"
    }
   ],
   "source": [
    "# Create products dimension table\n",
    "tblProducts = \"\"\"CREATE TABLE products ( \n",
    "prod_id VARCHAR(20) PRIMARY KEY, \n",
    "family VARCHAR(50));\"\"\"\n",
    "  \n",
    "# execute the statement\n",
    "cursor.execute(tblProducts)"
   ]
  },
  {
   "cell_type": "code",
   "execution_count": 80,
   "id": "4c0d502c",
   "metadata": {},
   "outputs": [],
   "source": [
    "# Insert DataFrame records.\n",
    "for i,row in products.iterrows():\n",
    "    sql = \"INSERT INTO products VALUES (?,?)\"\n",
    "    cursor.execute(sql, row.prod_id, row.family)\n",
    "\n",
    "    # commit to save our changes\n",
    "    conn.commit()"
   ]
  },
  {
   "cell_type": "code",
   "execution_count": 55,
   "id": "ff102d0e",
   "metadata": {},
   "outputs": [
    {
     "data": {
      "text/plain": [
       "<pyodbc.Cursor at 0x1934e289a30>"
      ]
     },
     "execution_count": 55,
     "metadata": {},
     "output_type": "execute_result"
    }
   ],
   "source": [
    "# Create oil dimension table\n",
    "tblOil = \"\"\"CREATE TABLE oil ( \n",
    "oil_id VARCHAR(20) PRIMARY KEY, \n",
    "date DATE,\n",
    "dcoilwtico float(2));\"\"\"\n",
    "  \n",
    "# execute the statement\n",
    "cursor.execute(tblOil)"
   ]
  },
  {
   "cell_type": "code",
   "execution_count": 92,
   "id": "3afea378",
   "metadata": {},
   "outputs": [],
   "source": [
    "# Insert DataFrame records.\n",
    "for i,row in oil.iterrows():\n",
    "    sql = \"INSERT INTO oil VALUES (?,?,?)\"\n",
    "    cursor.execute(sql, row.oil_id, row.date, row.dcoilwtico)\n",
    "\n",
    "    # commit to save our changes\n",
    "    conn.commit()"
   ]
  },
  {
   "cell_type": "code",
   "execution_count": 60,
   "id": "e526b35f",
   "metadata": {},
   "outputs": [
    {
     "data": {
      "text/plain": [
       "<pyodbc.Cursor at 0x1934e289a30>"
      ]
     },
     "execution_count": 60,
     "metadata": {},
     "output_type": "execute_result"
    }
   ],
   "source": [
    "# Create holidays dimension table\n",
    "tblHolidays = \"\"\"CREATE TABLE holidays ( \n",
    "holidays_id VARCHAR(20) PRIMARY KEY,\n",
    "date DATE,\n",
    "type VARCHAR(30),\n",
    "locale VARCHAR(30),\n",
    "locale_name VARCHAR(50),\n",
    "description VARCHAR(70),\n",
    "transferred VARCHAR(6));\"\"\"\n",
    "  \n",
    "# execute the statement\n",
    "cursor.execute(tblHolidays)"
   ]
  },
  {
   "cell_type": "code",
   "execution_count": 91,
   "id": "d86a9a8a",
   "metadata": {},
   "outputs": [],
   "source": [
    "# Insert DataFrame records.\n",
    "for i,row in holidays.iterrows():\n",
    "    sql = \"INSERT INTO holidays VALUES (?,?,?,?,?,?,?)\"\n",
    "    cursor.execute(sql, row.holidays_id, row.date, row.type, row.locale, row.locale_name, row.description, row.transferred)\n",
    "\n",
    "    # commit to save our changes\n",
    "    conn.commit()"
   ]
  },
  {
   "cell_type": "code",
   "execution_count": 48,
   "id": "4d6e30dd",
   "metadata": {},
   "outputs": [
    {
     "data": {
      "text/plain": [
       "<pyodbc.Cursor at 0x1934e289a30>"
      ]
     },
     "execution_count": 48,
     "metadata": {},
     "output_type": "execute_result"
    }
   ],
   "source": [
    "# Create stores dimension table\n",
    "tblStores = \"\"\"CREATE TABLE stores ( \n",
    "store_nbr VARCHAR(20) PRIMARY KEY, \n",
    "city VARCHAR(50),\n",
    "state VARCHAR(50),\n",
    "type CHAR(1),\n",
    "cluster CHAR(4));\"\"\"\n",
    "  \n",
    "# execute the statement\n",
    "cursor.execute(tblStores)"
   ]
  },
  {
   "cell_type": "code",
   "execution_count": 94,
   "id": "834ee2cc",
   "metadata": {},
   "outputs": [],
   "source": [
    "# Insert DataFrame records.\n",
    "for i,row in stores.iterrows():\n",
    "    sql = \"INSERT INTO stores VALUES (?,?,?,?,?)\"\n",
    "    cursor.execute(sql, row.store_nbr, row.city, row.state, row.type, row.cluster)\n",
    "\n",
    "    # commit to save our changes\n",
    "    conn.commit()"
   ]
  },
  {
   "cell_type": "code",
   "execution_count": 68,
   "id": "9457a62a",
   "metadata": {},
   "outputs": [
    {
     "data": {
      "text/plain": [
       "<pyodbc.Cursor at 0x1934e289a30>"
      ]
     },
     "execution_count": 68,
     "metadata": {},
     "output_type": "execute_result"
    }
   ],
   "source": [
    "# Create sales fact table\n",
    "tblSales = \"\"\"CREATE TABLE fact_sales ( \n",
    "id VARCHAR(20) PRIMARY KEY,\n",
    "date DATE,\n",
    "sales float(2),\n",
    "onpromotion INTEGER,\n",
    "store_nbr VARCHAR(20) FOREIGN KEY REFERENCES stores(store_nbr),\n",
    "prod_id VARCHAR(20) FOREIGN KEY REFERENCES products(prod_id));\"\"\"\n",
    "  \n",
    "# execute the statement\n",
    "cursor.execute(tblSales)"
   ]
  },
  {
   "cell_type": "code",
   "execution_count": 97,
   "id": "e38657d6",
   "metadata": {},
   "outputs": [],
   "source": [
    "# Insert DataFrame records.\n",
    "for i,row in sales.iterrows():\n",
    "    sql = \"INSERT INTO fact_sales VALUES (?,?,?,?,?,?)\"\n",
    "    cursor.execute(sql, row.id, row.date, row.sales, row.onpromotion, row.store_nbr, row.prod_id)\n",
    "\n",
    "    # commit to save our changes\n",
    "    conn.commit()"
   ]
  },
  {
   "cell_type": "code",
   "execution_count": 21,
   "id": "ab47e7a0",
   "metadata": {},
   "outputs": [
    {
     "data": {
      "text/html": [
       "<div>\n",
       "<style scoped>\n",
       "    .dataframe tbody tr th:only-of-type {\n",
       "        vertical-align: middle;\n",
       "    }\n",
       "\n",
       "    .dataframe tbody tr th {\n",
       "        vertical-align: top;\n",
       "    }\n",
       "\n",
       "    .dataframe thead th {\n",
       "        text-align: right;\n",
       "    }\n",
       "</style>\n",
       "<table border=\"1\" class=\"dataframe\">\n",
       "  <thead>\n",
       "    <tr style=\"text-align: right;\">\n",
       "      <th></th>\n",
       "      <th>predictions_id</th>\n",
       "      <th>id</th>\n",
       "      <th>sales</th>\n",
       "    </tr>\n",
       "  </thead>\n",
       "  <tbody>\n",
       "    <tr>\n",
       "      <th>0</th>\n",
       "      <td>pred_0</td>\n",
       "      <td>3000888</td>\n",
       "      <td>3.06543</td>\n",
       "    </tr>\n",
       "    <tr>\n",
       "      <th>1</th>\n",
       "      <td>pred_1</td>\n",
       "      <td>3000889</td>\n",
       "      <td>0.00000</td>\n",
       "    </tr>\n",
       "  </tbody>\n",
       "</table>\n",
       "</div>"
      ],
      "text/plain": [
       "  predictions_id       id    sales\n",
       "0         pred_0  3000888  3.06543\n",
       "1         pred_1  3000889  0.00000"
      ]
     },
     "execution_count": 21,
     "metadata": {},
     "output_type": "execute_result"
    }
   ],
   "source": [
    "#Add oil primary key\n",
    "predictions.drop_duplicates(keep='first', inplace=True)\n",
    "predictions.reset_index()\n",
    "predictions['predictions_id'] = predictions.index.astype(str)\n",
    "\n",
    "def predictions_key(value):\n",
    "    key = 'pred_' + value\n",
    "    return key\n",
    "\n",
    "predictions['predictions_id'] = predictions[['predictions_id']].apply(lambda x: [predictions_key(i) for i in x])\n",
    "predictions = predictions[['predictions_id','id','sales']]\n",
    "predictions.head(2)"
   ]
  },
  {
   "cell_type": "code",
   "execution_count": 27,
   "id": "bca11d4b",
   "metadata": {},
   "outputs": [
    {
     "data": {
      "text/plain": [
       "<pyodbc.Cursor at 0x27a49723530>"
      ]
     },
     "execution_count": 27,
     "metadata": {},
     "output_type": "execute_result"
    }
   ],
   "source": [
    "# Create sales fact table\n",
    "tblPredictions = \"\"\"CREATE TABLE SalesPredictions ( \n",
    "predictions_id VARCHAR(20) PRIMARY KEY,\n",
    "id INTEGER,\n",
    "sales float(5));\"\"\"\n",
    "  \n",
    "# execute the statement\n",
    "cursor.execute(tblPredictions)"
   ]
  },
  {
   "cell_type": "code",
   "execution_count": 28,
   "id": "548d937c",
   "metadata": {},
   "outputs": [],
   "source": [
    "# Insert DataFrame records.\n",
    "for i,row in predictions.iterrows():\n",
    "    sql = \"INSERT INTO SalesPredictions VALUES (?,?,?)\"\n",
    "    cursor.execute(sql, row.predictions_id, row.id, row.sales)\n",
    "\n",
    "    # commit to save our changes\n",
    "    conn.commit()"
   ]
  },
  {
   "cell_type": "code",
   "execution_count": 29,
   "id": "4be965c9",
   "metadata": {},
   "outputs": [],
   "source": [
    "# close the connection\n",
    "conn.close()"
   ]
  },
  {
   "cell_type": "code",
   "execution_count": null,
   "id": "c8655760",
   "metadata": {},
   "outputs": [],
   "source": []
  }
 ],
 "metadata": {
  "kernelspec": {
   "display_name": "Python 3",
   "language": "python",
   "name": "python3"
  },
  "language_info": {
   "codemirror_mode": {
    "name": "ipython",
    "version": 3
   },
   "file_extension": ".py",
   "mimetype": "text/x-python",
   "name": "python",
   "nbconvert_exporter": "python",
   "pygments_lexer": "ipython3",
   "version": "3.8.8"
  }
 },
 "nbformat": 4,
 "nbformat_minor": 5
}
